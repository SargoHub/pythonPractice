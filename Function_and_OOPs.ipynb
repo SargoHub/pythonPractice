{
  "nbformat": 4,
  "nbformat_minor": 0,
  "metadata": {
    "colab": {
      "provenance": [],
      "authorship_tag": "ABX9TyMFN+sRcReSrk8KPQ9AJIDj",
      "include_colab_link": true
    },
    "kernelspec": {
      "name": "python3",
      "display_name": "Python 3"
    },
    "language_info": {
      "name": "python"
    }
  },
  "cells": [
    {
      "cell_type": "markdown",
      "metadata": {
        "id": "view-in-github",
        "colab_type": "text"
      },
      "source": [
        "<a href=\"https://colab.research.google.com/github/SargoHub/pythonPractice/blob/main/Function_and_OOPs.ipynb\" target=\"_parent\"><img src=\"https://colab.research.google.com/assets/colab-badge.svg\" alt=\"Open In Colab\"/></a>"
      ]
    },
    {
      "cell_type": "code",
      "execution_count": 1,
      "metadata": {
        "colab": {
          "base_uri": "https://localhost:8080/"
        },
        "id": "gnYjkEzqCEmO",
        "outputId": "9b411a1c-a29f-444f-c882-07149aceddb7"
      },
      "outputs": [
        {
          "name": "stdout",
          "output_type": "stream",
          "text": [
            "enter first no.2\n",
            "enter second no.5\n"
          ]
        },
        {
          "output_type": "execute_result",
          "data": {
            "text/plain": [
              "7"
            ]
          },
          "metadata": {},
          "execution_count": 1
        }
      ],
      "source": [
        "def add():\n",
        "  x=int(input('enter first no.'))\n",
        "  y=int(input('enter second no.'))\n",
        "  return x+y\n",
        "add()"
      ]
    },
    {
      "cell_type": "code",
      "source": [
        "def add1(x,y):\n",
        "  return x+y\n",
        "add1(2,4)"
      ],
      "metadata": {
        "colab": {
          "base_uri": "https://localhost:8080/"
        },
        "id": "MUYyggGYCgre",
        "outputId": "b68e4501-7f03-4879-fad0-9f53914020ad"
      },
      "execution_count": 3,
      "outputs": [
        {
          "output_type": "execute_result",
          "data": {
            "text/plain": [
              "6"
            ]
          },
          "metadata": {},
          "execution_count": 3
        }
      ]
    },
    {
      "cell_type": "code",
      "source": [
        "#default values\n",
        "def add(x=0,y=0):\n",
        "  return x+y\n",
        "add(10)"
      ],
      "metadata": {
        "colab": {
          "base_uri": "https://localhost:8080/"
        },
        "id": "wEBTLmspEb9t",
        "outputId": "aa367272-a3d9-4a70-ab52-70ad3c953669"
      },
      "execution_count": 4,
      "outputs": [
        {
          "output_type": "execute_result",
          "data": {
            "text/plain": [
              "10"
            ]
          },
          "metadata": {},
          "execution_count": 4
        }
      ]
    },
    {
      "cell_type": "code",
      "source": [
        "#for multiple argumemnt values\n",
        "def func(*nums):\n",
        "  return nums\n",
        "func(1,5,4,2,3)\n",
        "#print(func(1,5,4,2,3))\n",
        "#type(func(1,5,4,2,3))\n"
      ],
      "metadata": {
        "colab": {
          "base_uri": "https://localhost:8080/"
        },
        "id": "O_0y73uKEoja",
        "outputId": "34ed1e8f-38df-4665-c610-a01f63df5c8a"
      },
      "execution_count": 19,
      "outputs": [
        {
          "output_type": "execute_result",
          "data": {
            "text/plain": [
              "(1, 5, 4, 2, 3)"
            ]
          },
          "metadata": {},
          "execution_count": 19
        }
      ]
    },
    {
      "cell_type": "code",
      "source": [
        "def greet():\n",
        "  name=str(input('Please enter your nanme:'))\n",
        "  id=int(input('please enter id:'))\n",
        "  print('Hello to you', name, 'with the following id', id)\n",
        "greet()"
      ],
      "metadata": {
        "colab": {
          "base_uri": "https://localhost:8080/"
        },
        "id": "5EklsMYUHB5Z",
        "outputId": "30509aca-ec7b-42db-fa26-f47e43e9de11"
      },
      "execution_count": 20,
      "outputs": [
        {
          "output_type": "stream",
          "name": "stdout",
          "text": [
            "Please enter your nanme:Saransh\n",
            "please enter id:1999\n",
            "Hello to you Saransh with the following id 1999\n"
          ]
        }
      ]
    },
    {
      "cell_type": "code",
      "source": [
        "def num1(* values):\n",
        "  for i in values:\n",
        "    print(i)\n",
        "num1(1,'Hi',7,'welcome',3)\n"
      ],
      "metadata": {
        "colab": {
          "base_uri": "https://localhost:8080/"
        },
        "id": "wEGr9T53Qwhk",
        "outputId": "c260d08e-ebc0-49e5-ca28-f7a1dbd85667"
      },
      "execution_count": 26,
      "outputs": [
        {
          "output_type": "stream",
          "name": "stdout",
          "text": [
            "1\n",
            "Hi\n",
            "7\n",
            "welcome\n",
            "3\n"
          ]
        }
      ]
    },
    {
      "cell_type": "code",
      "source": [
        "#f - using the font or formatting in string\n",
        "def greet2(name):\n",
        "  print('hi',name,'welcome here')\n",
        "  print(f'Hi, {name} welcome here')\n",
        "greet2('Saransh')"
      ],
      "metadata": {
        "colab": {
          "base_uri": "https://localhost:8080/"
        },
        "id": "GCIarnOxWBvR",
        "outputId": "872109e5-708e-4c5d-8d3e-29470891363c"
      },
      "execution_count": 30,
      "outputs": [
        {
          "output_type": "stream",
          "name": "stdout",
          "text": [
            "hi Saransh welcome here\n",
            "Hi, Saransh welcome here\n"
          ]
        }
      ]
    },
    {
      "cell_type": "code",
      "source": [
        "#  %s - string and %d - is for int\n",
        "name='Saransh'\n",
        "age=25\n",
        "print('My name is %s and I am %d years old'%(name,age))\n"
      ],
      "metadata": {
        "colab": {
          "base_uri": "https://localhost:8080/"
        },
        "id": "Cc7JiPb_XJqu",
        "outputId": "9fc4d5e3-cc78-4f4a-acf8-660599f0cbe2"
      },
      "execution_count": 31,
      "outputs": [
        {
          "output_type": "stream",
          "name": "stdout",
          "text": [
            "My name is Saransh and I am 25 years old\n"
          ]
        }
      ]
    },
    {
      "cell_type": "code",
      "source": [
        "#kwargs - keywords as arguments\n",
        "def greet(**values):\n",
        "  print('first_name',values['name'],'age',values['age'])\n",
        "greet(name='Saransh',age=20)"
      ],
      "metadata": {
        "colab": {
          "base_uri": "https://localhost:8080/"
        },
        "id": "rwtrM0UDbK8G",
        "outputId": "1355b2da-d914-4828-ed12-8c761e349213"
      },
      "execution_count": 48,
      "outputs": [
        {
          "output_type": "stream",
          "name": "stdout",
          "text": [
            "first_name None age None\n"
          ]
        }
      ]
    },
    {
      "cell_type": "code",
      "source": [
        "def f1(**values):\n",
        "  return values\n",
        "print(f1(name='saransh',age=20,sex='male'))\n"
      ],
      "metadata": {
        "colab": {
          "base_uri": "https://localhost:8080/"
        },
        "id": "KNGX-oqJpNMT",
        "outputId": "d0e6bc5c-f318-427d-bf18-0e28f9a90eb3"
      },
      "execution_count": 43,
      "outputs": [
        {
          "output_type": "stream",
          "name": "stdout",
          "text": [
            "{'name': 'saransh', 'age': 20, 'sex': 'male'}\n"
          ]
        }
      ]
    },
    {
      "cell_type": "markdown",
      "source": [
        "STARTING WITH OOPs"
      ],
      "metadata": {
        "id": "PnZ8KliGrEP5"
      }
    },
    {
      "cell_type": "code",
      "source": [
        "def cred():\n",
        "  user=input('enter name')\n",
        "  password=int(input('enter pwd'))\n",
        "  if (user=='xxx' and password==123):\n",
        "    print('success')\n",
        "  else:\n",
        "    print('failed')\n",
        "cred()"
      ],
      "metadata": {
        "colab": {
          "base_uri": "https://localhost:8080/"
        },
        "id": "e_1pwTDYrI5g",
        "outputId": "181321d9-a51c-4703-c950-2e11d353e760"
      },
      "execution_count": 51,
      "outputs": [
        {
          "output_type": "stream",
          "name": "stdout",
          "text": [
            "enter namexxx\n",
            "enter pwd123\n",
            "success\n"
          ]
        }
      ]
    },
    {
      "cell_type": "code",
      "source": [
        "def cred():\n",
        "  user=input('enter name')\n",
        "  password=int(input('enter pwd'))\n",
        "  auth(user,password)\n",
        "def auth(user,password):\n",
        "  if(user=='xxx' and password==123):\n",
        "    print('yes')\n",
        "  else:\n",
        "    print('no')\n",
        "#cred()\n",
        "\n",
        "for i in range(2):\n",
        "  cred()\n"
      ],
      "metadata": {
        "colab": {
          "base_uri": "https://localhost:8080/"
        },
        "id": "HEGN9fnI6_Bq",
        "outputId": "920dbac9-cb94-4aa7-fd27-f11494a090d0"
      },
      "execution_count": 58,
      "outputs": [
        {
          "output_type": "stream",
          "name": "stdout",
          "text": [
            "enter namexyz\n",
            "enter pwd125\n",
            "no\n",
            "enter namexxx\n",
            "enter pwd123\n",
            "yes\n"
          ]
        }
      ]
    },
    {
      "cell_type": "code",
      "source": [
        "#using the self attribute in method(function)\n",
        "#self represents the object\n",
        "class item:\n",
        "  def cal_price(self,price,qty):\n",
        "    return price*qty\n",
        "phone=item()  #created an object named phone\n",
        "phone.price=28000  #property for obj\n",
        "phone.qty=2 #property for obj\n",
        "charger=item()  #created an object named charger\n",
        "charger.price=3500  #property for obj\n",
        "charger.qty=2 #property for obj\n",
        "print(phone.cal_price(phone.price,phone.qty))  #here the phone will be the self attribute along with the two other attributes needed for the cal_price method\n",
        "print(charger.cal_price(charger.price,charger.qty))\n",
        "#using the self attribute allows us to use the same function cal_price for both the objects\n",
        "\n",
        "\n"
      ],
      "metadata": {
        "colab": {
          "base_uri": "https://localhost:8080/"
        },
        "id": "xT179Ua6NLbk",
        "outputId": "0ba2f326-12a0-4d3a-d5e3-a78783a80e6e"
      },
      "execution_count": 61,
      "outputs": [
        {
          "output_type": "stream",
          "name": "stdout",
          "text": [
            "56000\n",
            "7000\n"
          ]
        }
      ]
    },
    {
      "cell_type": "code",
      "source": [
        "class item:\n",
        "  def __init__(self):\n",
        "    print('constructor called')\n",
        "  def cal_price(self,price,qty):\n",
        "    return price*qty\n",
        "phone=item()\n",
        "charger=item()\n",
        "wire=item()\n",
        "#the __init__ function is automatically called when a obj is created"
      ],
      "metadata": {
        "colab": {
          "base_uri": "https://localhost:8080/"
        },
        "id": "-n8f1dSoSLGQ",
        "outputId": "279b0329-01d4-407b-936c-a62c20a1c3c9"
      },
      "execution_count": 62,
      "outputs": [
        {
          "output_type": "stream",
          "name": "stdout",
          "text": [
            "constructor called\n",
            "constructor called\n",
            "constructor called\n"
          ]
        }
      ]
    },
    {
      "cell_type": "code",
      "source": [
        "class item:\n",
        "  def __init__(self,price,qty):\n",
        "    self.price=price\n",
        "    self.qty=qty\n",
        "  def cal_price(self):\n",
        "    return f'the price is {self.price} and quantity is {self.qty}'\n",
        "    return self.price * self.qty\n",
        "phone=item(28000,3)\n",
        "print(phone.cal_price())\n",
        "print(id(phone))  #this gives the address of the object in the heap memory\n",
        "\n"
      ],
      "metadata": {
        "colab": {
          "base_uri": "https://localhost:8080/"
        },
        "id": "Twh5iCiSVbVq",
        "outputId": "48fbe339-4b1b-45eb-a4ad-01eaadb74917"
      },
      "execution_count": 70,
      "outputs": [
        {
          "output_type": "stream",
          "name": "stdout",
          "text": [
            "the price is 28000 and quantity is 3\n",
            "139330573770448\n"
          ]
        }
      ]
    },
    {
      "cell_type": "code",
      "source": [],
      "metadata": {
        "id": "DNi8srUoQLL2"
      },
      "execution_count": null,
      "outputs": []
    }
  ]
}