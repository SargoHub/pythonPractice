{
  "nbformat": 4,
  "nbformat_minor": 0,
  "metadata": {
    "colab": {
      "provenance": [],
      "authorship_tag": "ABX9TyMV0nVi1ocjPUAQZmWs2BGV",
      "include_colab_link": true
    },
    "kernelspec": {
      "name": "python3",
      "display_name": "Python 3"
    },
    "language_info": {
      "name": "python"
    }
  },
  "cells": [
    {
      "cell_type": "markdown",
      "metadata": {
        "id": "view-in-github",
        "colab_type": "text"
      },
      "source": [
        "<a href=\"https://colab.research.google.com/github/SargoHub/pythonPractice/blob/main/Function_and_OOPs.ipynb\" target=\"_parent\"><img src=\"https://colab.research.google.com/assets/colab-badge.svg\" alt=\"Open In Colab\"/></a>"
      ]
    },
    {
      "cell_type": "code",
      "execution_count": null,
      "metadata": {
        "colab": {
          "base_uri": "https://localhost:8080/"
        },
        "id": "gnYjkEzqCEmO",
        "outputId": "9b411a1c-a29f-444f-c882-07149aceddb7"
      },
      "outputs": [
        {
          "name": "stdout",
          "output_type": "stream",
          "text": [
            "enter first no.2\n",
            "enter second no.5\n"
          ]
        },
        {
          "output_type": "execute_result",
          "data": {
            "text/plain": [
              "7"
            ]
          },
          "metadata": {},
          "execution_count": 1
        }
      ],
      "source": [
        "def add():\n",
        "  x=int(input('enter first no.'))\n",
        "  y=int(input('enter second no.'))\n",
        "  return x+y\n",
        "add()"
      ]
    },
    {
      "cell_type": "code",
      "source": [
        "def add1(x,y):\n",
        "  return x+y\n",
        "add1(2,4)"
      ],
      "metadata": {
        "colab": {
          "base_uri": "https://localhost:8080/"
        },
        "id": "MUYyggGYCgre",
        "outputId": "b68e4501-7f03-4879-fad0-9f53914020ad"
      },
      "execution_count": null,
      "outputs": [
        {
          "output_type": "execute_result",
          "data": {
            "text/plain": [
              "6"
            ]
          },
          "metadata": {},
          "execution_count": 3
        }
      ]
    },
    {
      "cell_type": "code",
      "source": [
        "#default values\n",
        "def add(x=0,y=0):\n",
        "  return x+y\n",
        "add(10)"
      ],
      "metadata": {
        "colab": {
          "base_uri": "https://localhost:8080/"
        },
        "id": "wEBTLmspEb9t",
        "outputId": "aa367272-a3d9-4a70-ab52-70ad3c953669"
      },
      "execution_count": null,
      "outputs": [
        {
          "output_type": "execute_result",
          "data": {
            "text/plain": [
              "10"
            ]
          },
          "metadata": {},
          "execution_count": 4
        }
      ]
    },
    {
      "cell_type": "code",
      "source": [
        "#for multiple argumemnt values\n",
        "def func(*nums):\n",
        "  return nums\n",
        "func(1,5,4,2,3)\n",
        "#print(func(1,5,4,2,3))\n",
        "#type(func(1,5,4,2,3))\n"
      ],
      "metadata": {
        "colab": {
          "base_uri": "https://localhost:8080/"
        },
        "id": "O_0y73uKEoja",
        "outputId": "34ed1e8f-38df-4665-c610-a01f63df5c8a"
      },
      "execution_count": null,
      "outputs": [
        {
          "output_type": "execute_result",
          "data": {
            "text/plain": [
              "(1, 5, 4, 2, 3)"
            ]
          },
          "metadata": {},
          "execution_count": 19
        }
      ]
    },
    {
      "cell_type": "code",
      "source": [
        "def greet():\n",
        "  name=str(input('Please enter your nanme:'))\n",
        "  id=int(input('please enter id:'))\n",
        "  print('Hello to you', name, 'with the following id', id)\n",
        "greet()"
      ],
      "metadata": {
        "colab": {
          "base_uri": "https://localhost:8080/"
        },
        "id": "5EklsMYUHB5Z",
        "outputId": "30509aca-ec7b-42db-fa26-f47e43e9de11"
      },
      "execution_count": null,
      "outputs": [
        {
          "output_type": "stream",
          "name": "stdout",
          "text": [
            "Please enter your nanme:Saransh\n",
            "please enter id:1999\n",
            "Hello to you Saransh with the following id 1999\n"
          ]
        }
      ]
    },
    {
      "cell_type": "code",
      "source": [
        "def num1(* values):\n",
        "  for i in values:\n",
        "    print(i)\n",
        "num1(1,'Hi',7,'welcome',3)\n"
      ],
      "metadata": {
        "colab": {
          "base_uri": "https://localhost:8080/"
        },
        "id": "wEGr9T53Qwhk",
        "outputId": "c260d08e-ebc0-49e5-ca28-f7a1dbd85667"
      },
      "execution_count": null,
      "outputs": [
        {
          "output_type": "stream",
          "name": "stdout",
          "text": [
            "1\n",
            "Hi\n",
            "7\n",
            "welcome\n",
            "3\n"
          ]
        }
      ]
    },
    {
      "cell_type": "code",
      "source": [
        "#f - using the font or formatting in string\n",
        "def greet2(name):\n",
        "  print('hi',name,'welcome here')\n",
        "  print(f'Hi, {name} welcome here')\n",
        "greet2('Saransh')"
      ],
      "metadata": {
        "colab": {
          "base_uri": "https://localhost:8080/"
        },
        "id": "GCIarnOxWBvR",
        "outputId": "872109e5-708e-4c5d-8d3e-29470891363c"
      },
      "execution_count": null,
      "outputs": [
        {
          "output_type": "stream",
          "name": "stdout",
          "text": [
            "hi Saransh welcome here\n",
            "Hi, Saransh welcome here\n"
          ]
        }
      ]
    },
    {
      "cell_type": "code",
      "source": [
        "#  %s - string and %d - is for int\n",
        "name='Saransh'\n",
        "age=25\n",
        "print('My name is %s and I am %d years old'%(name,age))\n"
      ],
      "metadata": {
        "colab": {
          "base_uri": "https://localhost:8080/"
        },
        "id": "Cc7JiPb_XJqu",
        "outputId": "9fc4d5e3-cc78-4f4a-acf8-660599f0cbe2"
      },
      "execution_count": null,
      "outputs": [
        {
          "output_type": "stream",
          "name": "stdout",
          "text": [
            "My name is Saransh and I am 25 years old\n"
          ]
        }
      ]
    },
    {
      "cell_type": "code",
      "source": [
        "#kwargs - keywords as arguments\n",
        "def greet(**values):\n",
        "  print('first_name',values['name'],'age',values['age'])\n",
        "greet(name='Saransh',age=20)"
      ],
      "metadata": {
        "colab": {
          "base_uri": "https://localhost:8080/"
        },
        "id": "rwtrM0UDbK8G",
        "outputId": "1355b2da-d914-4828-ed12-8c761e349213"
      },
      "execution_count": null,
      "outputs": [
        {
          "output_type": "stream",
          "name": "stdout",
          "text": [
            "first_name None age None\n"
          ]
        }
      ]
    },
    {
      "cell_type": "code",
      "source": [
        "def f1(**values):\n",
        "  return values\n",
        "print(f1(name='saransh',age=20,sex='male'))\n"
      ],
      "metadata": {
        "colab": {
          "base_uri": "https://localhost:8080/"
        },
        "id": "KNGX-oqJpNMT",
        "outputId": "d0e6bc5c-f318-427d-bf18-0e28f9a90eb3"
      },
      "execution_count": null,
      "outputs": [
        {
          "output_type": "stream",
          "name": "stdout",
          "text": [
            "{'name': 'saransh', 'age': 20, 'sex': 'male'}\n"
          ]
        }
      ]
    },
    {
      "cell_type": "markdown",
      "source": [
        "STARTING WITH OOPs\n",
        "- Attributes/Parameters - variables in class (the properties of object)\n",
        "- Method - function in our class ( the action/behaviour the object can do )"
      ],
      "metadata": {
        "id": "PnZ8KliGrEP5"
      }
    },
    {
      "cell_type": "code",
      "source": [
        "def cred():\n",
        "  user=input('enter name')\n",
        "  password=int(input('enter pwd'))\n",
        "  if (user=='xxx' and password==123):\n",
        "    print('success')\n",
        "  else:\n",
        "    print('failed')\n",
        "cred()"
      ],
      "metadata": {
        "colab": {
          "base_uri": "https://localhost:8080/"
        },
        "id": "e_1pwTDYrI5g",
        "outputId": "181321d9-a51c-4703-c950-2e11d353e760"
      },
      "execution_count": null,
      "outputs": [
        {
          "output_type": "stream",
          "name": "stdout",
          "text": [
            "enter namexxx\n",
            "enter pwd123\n",
            "success\n"
          ]
        }
      ]
    },
    {
      "cell_type": "code",
      "source": [
        "#this is the functional way of writing the code\n",
        "def cred():\n",
        "  user=input('enter name')\n",
        "  password=int(input('enter pwd'))\n",
        "  auth(user,password)\n",
        "def auth(user,password):\n",
        "  if(user=='xxx' and password==123):\n",
        "    print('yes')\n",
        "  else:\n",
        "    print('no')\n",
        "#cred()\n",
        "\n",
        "for i in range(2):\n",
        "  cred()\n"
      ],
      "metadata": {
        "colab": {
          "base_uri": "https://localhost:8080/"
        },
        "id": "HEGN9fnI6_Bq",
        "outputId": "920dbac9-cb94-4aa7-fd27-f11494a090d0"
      },
      "execution_count": null,
      "outputs": [
        {
          "output_type": "stream",
          "name": "stdout",
          "text": [
            "enter namexyz\n",
            "enter pwd125\n",
            "no\n",
            "enter namexxx\n",
            "enter pwd123\n",
            "yes\n"
          ]
        }
      ]
    },
    {
      "cell_type": "code",
      "source": [
        "#using the self attribute in method(function)\n",
        "#self represents the object\n",
        "class item:\n",
        "  def cal_price(self,price,qty):\n",
        "    return price*qty\n",
        "phone=item()  #created an object named phone\n",
        "phone.price=28000  #property for obj\n",
        "phone.qty=2 #property for obj\n",
        "charger=item()  #created an object named charger\n",
        "charger.price=3500  #property for obj\n",
        "charger.qty=2 #property for obj\n",
        "print(phone.cal_price(phone.price,phone.qty))  #here the phone will be the self attribute along with the two other attributes needed for the cal_price method\n",
        "print(charger.cal_price(charger.price,charger.qty))\n",
        "#using the self attribute allows us to use the same function cal_price for both the objects\n",
        "\n",
        "\n"
      ],
      "metadata": {
        "colab": {
          "base_uri": "https://localhost:8080/"
        },
        "id": "xT179Ua6NLbk",
        "outputId": "0ba2f326-12a0-4d3a-d5e3-a78783a80e6e"
      },
      "execution_count": null,
      "outputs": [
        {
          "output_type": "stream",
          "name": "stdout",
          "text": [
            "56000\n",
            "7000\n"
          ]
        }
      ]
    },
    {
      "cell_type": "code",
      "source": [
        "class item:\n",
        "  def __init__(self):\n",
        "    print('constructor called')\n",
        "  def cal_price(self,price,qty):\n",
        "    return price*qty\n",
        "phone=item()\n",
        "charger=item()\n",
        "wire=item()\n",
        "#the __init__ function is automatically called when a obj is created"
      ],
      "metadata": {
        "colab": {
          "base_uri": "https://localhost:8080/"
        },
        "id": "-n8f1dSoSLGQ",
        "outputId": "279b0329-01d4-407b-936c-a62c20a1c3c9"
      },
      "execution_count": null,
      "outputs": [
        {
          "output_type": "stream",
          "name": "stdout",
          "text": [
            "constructor called\n",
            "constructor called\n",
            "constructor called\n"
          ]
        }
      ]
    },
    {
      "cell_type": "code",
      "source": [
        "class item:\n",
        "  def __init__(self,price,qty):\n",
        "    self.price=price\n",
        "    self.qty=qty\n",
        "  def cal_price(self):\n",
        "    return f'the price is {self.price} and quantity is {self.qty}'\n",
        "    return self.price * self.qty\n",
        "phone=item(28000,3)\n",
        "print(phone.cal_price())\n",
        "print(id(phone))  #this gives the address of the object in the heap memory\n",
        "\n"
      ],
      "metadata": {
        "colab": {
          "base_uri": "https://localhost:8080/"
        },
        "id": "Twh5iCiSVbVq",
        "outputId": "48fbe339-4b1b-45eb-a4ad-01eaadb74917"
      },
      "execution_count": null,
      "outputs": [
        {
          "output_type": "stream",
          "name": "stdout",
          "text": [
            "the price is 28000 and quantity is 3\n",
            "139330573770448\n"
          ]
        }
      ]
    },
    {
      "cell_type": "code",
      "source": [
        "#self thought example\n",
        "class car:\n",
        "  def __init__(self,name,segment):\n",
        "    self.name=name\n",
        "    self.segment=segment\n",
        "  def start(self):\n",
        "    print(f'the car {self.name} of the segment {self.segment} started')\n",
        "\n",
        "car1=car('rover','suv')\n",
        "car2=car('merc','sedan')\n",
        "\n",
        "print(car1.start())\n",
        "print(car2.start())"
      ],
      "metadata": {
        "id": "DNi8srUoQLL2",
        "colab": {
          "base_uri": "https://localhost:8080/"
        },
        "outputId": "3c145540-0b76-4a41-938b-9b169a374752"
      },
      "execution_count": 5,
      "outputs": [
        {
          "output_type": "stream",
          "name": "stdout",
          "text": [
            "the car rover of the segment suv started\n",
            "None\n",
            "the car merc of the segment sedan started\n",
            "None\n"
          ]
        }
      ]
    },
    {
      "cell_type": "code",
      "source": [
        "#self written code\n",
        "class vacation:\n",
        "  def __init__(self,name,type):\n",
        "    self.name=name\n",
        "    self.type=type\n",
        "  def sel_loc(self):\n",
        "\n",
        "    #return f'the location that is selected is {self.name} which is a {self.type}'\n",
        "    print(f'the location that is selected is {self.name} which is a {self.type}')\n",
        "  def budget(self):\n",
        "    if self.type == 'beach':\n",
        "      return f'the cost is 10000'\n",
        "      #print('the cost for this is 10000')\n",
        "    else:\n",
        "      return f'the cost is 20000 for mountain'\n",
        "      #print('the cost is 20000 for mountain')\n",
        "loc1=vacation('goa','beach')\n",
        "loc2=vacation('ladakh','mountain')\n",
        "\n",
        "loc1.sel_loc()\n",
        "print(loc1.budget())\n",
        "print(loc2.budget())\n",
        "loc1.name\n"
      ],
      "metadata": {
        "colab": {
          "base_uri": "https://localhost:8080/",
          "height": 88
        },
        "id": "ouLRZw42kzYh",
        "outputId": "6a72e235-ec05-4baf-c326-eb44b52bf065"
      },
      "execution_count": 20,
      "outputs": [
        {
          "output_type": "stream",
          "name": "stdout",
          "text": [
            "the location that is selected is goa which is a beach\n",
            "the cost is 10000\n",
            "the cost is 20000 for mountain\n"
          ]
        },
        {
          "output_type": "execute_result",
          "data": {
            "text/plain": [
              "'goa'"
            ],
            "application/vnd.google.colaboratory.intrinsic+json": {
              "type": "string"
            }
          },
          "metadata": {},
          "execution_count": 20
        }
      ]
    },
    {
      "cell_type": "code",
      "source": [
        "class new:\n",
        "  def __init__(self,name):\n",
        "    print('constructor is create')\n",
        "    self.name = name\n",
        "p1=new('adam')\n"
      ],
      "metadata": {
        "colab": {
          "base_uri": "https://localhost:8080/"
        },
        "id": "JpZXgCGCvN-o",
        "outputId": "53389748-d39e-4a71-aadb-df8751c2e68f"
      },
      "execution_count": 21,
      "outputs": [
        {
          "output_type": "stream",
          "name": "stdout",
          "text": [
            "constructor is create\n"
          ]
        }
      ]
    },
    {
      "cell_type": "markdown",
      "source": [
        "4 PILLARS OF OPPs-\n",
        "1. INHERITANCE\n",
        "2. POLYMORPHISM\n",
        "3. ENCAPSULATION\n",
        "4. ABSTRACTION\n"
      ],
      "metadata": {
        "id": "4yfkaE8oz5cp"
      }
    },
    {
      "cell_type": "code",
      "source": [
        "#inheritance example\n",
        "# this is single level\n",
        "#parent class\n",
        "class chocolate:\n",
        "  def taste(self):\n",
        "    print('the taste is sweet')\n",
        "#chile class\n",
        "class milkybar(chocolate):\n",
        "  def color(self):\n",
        "    print('the color is white')\n",
        "obj1=chocolate()\n",
        "obj2=milkybar()\n",
        "obj2.taste() #here we are calling the taste function for obj2 which is getting pulled from the parent class\n",
        "obj1.taste()\n",
        "obj2.color()\n"
      ],
      "metadata": {
        "colab": {
          "base_uri": "https://localhost:8080/"
        },
        "id": "Mas6ZYBM3L4W",
        "outputId": "9f86a188-0990-4637-ef46-d56b1d3ad79f"
      },
      "execution_count": 23,
      "outputs": [
        {
          "output_type": "stream",
          "name": "stdout",
          "text": [
            "the taste is sweet\n",
            "the taste is sweet\n",
            "the color is white\n"
          ]
        }
      ]
    },
    {
      "cell_type": "code",
      "source": [
        "#self thought code\n",
        "#multilevel Inheritance\n",
        "class gp():\n",
        "  def __init__(self):\n",
        "    self.name='Shri OP'\n",
        "  def home(self):\n",
        "    print('home is NSD')\n",
        "class p(gp):\n",
        "  def __init__(self):\n",
        "    self.name='Sunil'\n",
        "class child(p):\n",
        "  def __init__(self):\n",
        "    self.name='Saransh'\n",
        "    self.gender='male'\n",
        "obj1=gp()\n",
        "obj2=p()\n",
        "obj3=child()\n",
        "obj3.home()  # calling the home function of gp class with obj3 of child class\n",
        "obj3.gender #calling the variable of the constructor function of child class using the obj3 of child class itself\n"
      ],
      "metadata": {
        "colab": {
          "base_uri": "https://localhost:8080/",
          "height": 53
        },
        "id": "oxvoJMyoAc45",
        "outputId": "0db446bf-3444-434c-d63e-1d8d03acb3f2"
      },
      "execution_count": 29,
      "outputs": [
        {
          "output_type": "stream",
          "name": "stdout",
          "text": [
            "home is NSD\n"
          ]
        },
        {
          "output_type": "execute_result",
          "data": {
            "text/plain": [
              "'male'"
            ],
            "application/vnd.google.colaboratory.intrinsic+json": {
              "type": "string"
            }
          },
          "metadata": {},
          "execution_count": 29
        }
      ]
    }
  ]
}