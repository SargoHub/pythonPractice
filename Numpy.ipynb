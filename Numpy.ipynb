{
  "nbformat": 4,
  "nbformat_minor": 0,
  "metadata": {
    "colab": {
      "provenance": [],
      "authorship_tag": "ABX9TyPBvLRUfv1Pw5GT/7sw6e5n",
      "include_colab_link": true
    },
    "kernelspec": {
      "name": "python3",
      "display_name": "Python 3"
    },
    "language_info": {
      "name": "python"
    }
  },
  "cells": [
    {
      "cell_type": "markdown",
      "metadata": {
        "id": "view-in-github",
        "colab_type": "text"
      },
      "source": [
        "<a href=\"https://colab.research.google.com/github/SargoHub/pythonPractice/blob/main/Numpy.ipynb\" target=\"_parent\"><img src=\"https://colab.research.google.com/assets/colab-badge.svg\" alt=\"Open In Colab\"/></a>"
      ]
    },
    {
      "cell_type": "markdown",
      "source": [
        "NUMPY LIBRARY\n"
      ],
      "metadata": {
        "id": "Lkv1cNZYVFzL"
      }
    },
    {
      "cell_type": "code",
      "source": [
        "# importing the library\n",
        "import numpy as np   # np is created as a alias so that calling the fucntion becomes easier\n"
      ],
      "metadata": {
        "id": "svs7F9uwVJbS"
      },
      "execution_count": null,
      "outputs": []
    },
    {
      "cell_type": "code",
      "source": [
        "l=[1,34,56,2]\n",
        "#creating the numpy one directional array from the list\n",
        "a=np.array(l)\n",
        "a\n"
      ],
      "metadata": {
        "colab": {
          "base_uri": "https://localhost:8080/"
        },
        "id": "74io2sy4Zp2l",
        "outputId": "fecba07f-3a41-4ece-df01-e3603077e798"
      },
      "execution_count": null,
      "outputs": [
        {
          "output_type": "execute_result",
          "data": {
            "text/plain": [
              "array([ 1, 34, 56,  2])"
            ]
          },
          "metadata": {},
          "execution_count": 8
        }
      ]
    },
    {
      "cell_type": "code",
      "source": [
        "# multi dimensional array\n",
        "# first creating a one dimensional array\n",
        "x=np.array([1,67,28,47])\n",
        "x"
      ],
      "metadata": {
        "colab": {
          "base_uri": "https://localhost:8080/"
        },
        "id": "6htorwMTawIS",
        "outputId": "d31dde9b-ba42-4a7a-bf9c-91cbcc83709f"
      },
      "execution_count": null,
      "outputs": [
        {
          "output_type": "execute_result",
          "data": {
            "text/plain": [
              "array([ 1, 67, 28, 47])"
            ]
          },
          "metadata": {},
          "execution_count": 12
        }
      ]
    },
    {
      "cell_type": "code",
      "source": [
        "print(x.ndim)  # this gives the dimension of the array\n",
        "print(x.shape) # gives the number of elements present in the array\n",
        "print(x.dtype)  # will tell the data type in the array"
      ],
      "metadata": {
        "colab": {
          "base_uri": "https://localhost:8080/"
        },
        "id": "RycjkjpBbqd5",
        "outputId": "d7835ff3-bd61-4e4d-c985-9e651898d966"
      },
      "execution_count": null,
      "outputs": [
        {
          "output_type": "stream",
          "name": "stdout",
          "text": [
            "1\n",
            "(4,)\n",
            "int64\n"
          ]
        }
      ]
    },
    {
      "cell_type": "code",
      "source": [
        "# 2 dimensional array\n",
        "s=np.array([[1,2,3],[4,5,6]])\n",
        "s"
      ],
      "metadata": {
        "colab": {
          "base_uri": "https://localhost:8080/"
        },
        "id": "wEHW048jcl0K",
        "outputId": "cb2a881f-6f3b-49e6-c56a-d6302091e82b"
      },
      "execution_count": null,
      "outputs": [
        {
          "output_type": "execute_result",
          "data": {
            "text/plain": [
              "array([[1, 2, 3],\n",
              "       [4, 5, 6]])"
            ]
          },
          "metadata": {},
          "execution_count": 22
        }
      ]
    },
    {
      "cell_type": "code",
      "source": [
        "print(s.ndim)\n",
        "print(s.shape)   # gives the number of (rows,cloumns)"
      ],
      "metadata": {
        "colab": {
          "base_uri": "https://localhost:8080/"
        },
        "id": "-xYTDuVwgqHJ",
        "outputId": "97e1b7a9-5d83-4c20-c8d7-794c5d39f045"
      },
      "execution_count": null,
      "outputs": [
        {
          "output_type": "stream",
          "name": "stdout",
          "text": [
            "2\n",
            "(2, 3)\n"
          ]
        }
      ]
    },
    {
      "cell_type": "code",
      "source": [
        "s.reshape(3,2)"
      ],
      "metadata": {
        "colab": {
          "base_uri": "https://localhost:8080/"
        },
        "id": "31ABRtl4ibJM",
        "outputId": "0db83581-e22e-44f8-c847-bb87aade9d5a"
      },
      "execution_count": null,
      "outputs": [
        {
          "output_type": "execute_result",
          "data": {
            "text/plain": [
              "array([[1, 2],\n",
              "       [3, 4],\n",
              "       [5, 6]])"
            ]
          },
          "metadata": {},
          "execution_count": 25
        }
      ]
    },
    {
      "cell_type": "code",
      "source": [
        "print(p.ndim)\n",
        "print(p.shape)\n",
        "print(p.size)"
      ],
      "metadata": {
        "colab": {
          "base_uri": "https://localhost:8080/"
        },
        "id": "qQlqlNuklFA0",
        "outputId": "edfd1532-3ed7-41aa-ee76-54aaedb048bd"
      },
      "execution_count": null,
      "outputs": [
        {
          "output_type": "stream",
          "name": "stdout",
          "text": [
            "3\n",
            "(2, 2, 3)\n",
            "12\n"
          ]
        }
      ]
    },
    {
      "cell_type": "code",
      "source": [
        "g=np.array([1,2,3,4,5,6,7,8,9,10,11,12])\n",
        "print(g.size)\n",
        "print(g.ndim)\n",
        "g.reshape(2,6)\n",
        "g.reshape(4,3)\n"
      ],
      "metadata": {
        "colab": {
          "base_uri": "https://localhost:8080/"
        },
        "id": "xSI6BLXkm1_t",
        "outputId": "01854d84-4eee-4b97-c9b7-241ad42c5360"
      },
      "execution_count": null,
      "outputs": [
        {
          "output_type": "stream",
          "name": "stdout",
          "text": [
            "12\n",
            "1\n"
          ]
        },
        {
          "output_type": "execute_result",
          "data": {
            "text/plain": [
              "array([[ 1,  2,  3],\n",
              "       [ 4,  5,  6],\n",
              "       [ 7,  8,  9],\n",
              "       [10, 11, 12]])"
            ]
          },
          "metadata": {},
          "execution_count": 32
        }
      ]
    },
    {
      "cell_type": "code",
      "source": [
        "# 3 dimensional array\n",
        "p=np.array([[[1,2,3],[4,5,6]],[[7,8,9],[10,11,12]]])\n",
        "p  # this array has one 3 dimensional, two 2-dimensional inside it, and two 1-dimensional inside the 2-dimensional"
      ],
      "metadata": {
        "colab": {
          "base_uri": "https://localhost:8080/"
        },
        "id": "JgvDseEDoG60",
        "outputId": "f9476583-1c32-474f-e49b-0ed2574e92bc"
      },
      "execution_count": null,
      "outputs": [
        {
          "output_type": "execute_result",
          "data": {
            "text/plain": [
              "array([[[ 1,  2,  3],\n",
              "        [ 4,  5,  6]],\n",
              "\n",
              "       [[ 7,  8,  9],\n",
              "        [10, 11, 12]]])"
            ]
          },
          "metadata": {},
          "execution_count": 35
        }
      ]
    },
    {
      "cell_type": "code",
      "source": [
        "t=np.array([[[1,2,3],[4,5,6]]])\n",
        "print(t[0])  # gives the 2-dimensional array present in the 3-dimensional array\n",
        "print(t[0][1])  # gives the second 1-dimensional array of the 2-dimensional\n",
        "print(t[0][1][1]) # gives the second index value of the 1-dimensional array"
      ],
      "metadata": {
        "colab": {
          "base_uri": "https://localhost:8080/"
        },
        "id": "eYETo3x6tmt-",
        "outputId": "c48407cd-f95a-456c-e72f-df0e8e51f496"
      },
      "execution_count": null,
      "outputs": [
        {
          "output_type": "stream",
          "name": "stdout",
          "text": [
            "[[1 2 3]\n",
            " [4 5 6]]\n",
            "[4 5 6]\n",
            "5\n"
          ]
        }
      ]
    },
    {
      "cell_type": "code",
      "source": [
        "# ndmin to give the number of dimension of array\n",
        "g=np.array([1,2,3,5],ndmin=4)  # to create a 4 dimension array using ndmin\n",
        "g\n"
      ],
      "metadata": {
        "colab": {
          "base_uri": "https://localhost:8080/"
        },
        "id": "s6UYVhcxvvO4",
        "outputId": "966408e3-a6a8-4fd1-e1a9-65cb6497c5c1"
      },
      "execution_count": null,
      "outputs": [
        {
          "output_type": "execute_result",
          "data": {
            "text/plain": [
              "array([[[[1, 2, 3, 5]]]])"
            ]
          },
          "metadata": {},
          "execution_count": 38
        }
      ]
    },
    {
      "cell_type": "code",
      "source": [
        "import numpy as np\n",
        "k=np.array([[4,8,7],[7,5,8]],ndmin=6)\n",
        "k"
      ],
      "metadata": {
        "id": "a4cCY0Qjv6_g",
        "colab": {
          "base_uri": "https://localhost:8080/"
        },
        "outputId": "04757248-3090-48a2-e800-7fb50a9eaf72"
      },
      "execution_count": 2,
      "outputs": [
        {
          "output_type": "execute_result",
          "data": {
            "text/plain": [
              "array([[[[[[4, 8, 7],\n",
              "           [7, 5, 8]]]]]])"
            ]
          },
          "metadata": {},
          "execution_count": 2
        }
      ]
    },
    {
      "cell_type": "code",
      "source": [
        "#INDEXING AND SLICING\n",
        "f=np.array([[1,2,3],[4,7,3]])\n",
        "print(f[0][2])\n",
        "print(f[1][0:2])\n",
        "\n",
        "\n"
      ],
      "metadata": {
        "colab": {
          "base_uri": "https://localhost:8080/"
        },
        "id": "DdKvcCzWgvvj",
        "outputId": "63ed82c9-b53e-4491-fcb6-504faae91559"
      },
      "execution_count": 8,
      "outputs": [
        {
          "output_type": "stream",
          "name": "stdout",
          "text": [
            "3\n",
            "[4 7]\n"
          ]
        },
        {
          "output_type": "execute_result",
          "data": {
            "text/plain": [
              "6"
            ]
          },
          "metadata": {},
          "execution_count": 8
        }
      ]
    },
    {
      "cell_type": "code",
      "source": [
        "r=np.array([[[2,4]],[[4,5]]])\n",
        "r.shape   # for a 3-dimensional array the shape gives (no. of 2 dimensional arrays, rows, columns)\n",
        "\n"
      ],
      "metadata": {
        "colab": {
          "base_uri": "https://localhost:8080/"
        },
        "id": "Q3bDeRU8ja8p",
        "outputId": "a9e8ae3a-c957-4036-def3-b8c4d9087c77"
      },
      "execution_count": 12,
      "outputs": [
        {
          "output_type": "execute_result",
          "data": {
            "text/plain": [
              "(2, 1, 2)"
            ]
          },
          "metadata": {},
          "execution_count": 12
        }
      ]
    },
    {
      "cell_type": "code",
      "source": [
        "# CONCATENATION OF NUMPY ARRAYS\n",
        "a1=np.array([[1,5,9]])\n",
        "a2=np.array([[7,5,3]])\n",
        "s=np.concatenate((a1,a2))  # in the concatenate fucn pass the array to be concatenated as tuple (both array should be of same dimensions)\n",
        "s\n"
      ],
      "metadata": {
        "colab": {
          "base_uri": "https://localhost:8080/"
        },
        "id": "te0LywFdmesz",
        "outputId": "feaf90ca-1d60-41a8-d383-182094219831"
      },
      "execution_count": 13,
      "outputs": [
        {
          "output_type": "execute_result",
          "data": {
            "text/plain": [
              "array([[1, 5, 9],\n",
              "       [7, 5, 3]])"
            ]
          },
          "metadata": {},
          "execution_count": 13
        }
      ]
    },
    {
      "cell_type": "code",
      "source": [
        "u1=np.array([4,5])\n",
        "u2=np.array([7,8])\n",
        "o=np.concatenate((u1,u2))\n",
        "o"
      ],
      "metadata": {
        "colab": {
          "base_uri": "https://localhost:8080/"
        },
        "id": "INivpfo1m29j",
        "outputId": "1892a49e-bbce-4124-c351-26823c98fff3"
      },
      "execution_count": 14,
      "outputs": [
        {
          "output_type": "execute_result",
          "data": {
            "text/plain": [
              "array([4, 5, 7, 8])"
            ]
          },
          "metadata": {},
          "execution_count": 14
        }
      ]
    },
    {
      "cell_type": "code",
      "source": [
        "p1=np.array([[4,5]])\n",
        "p2=np.array([[7,8]])\n",
        "l=np.concatenate((p1,p2),axis=1)  # join the array in one line using axis=1 argument\n",
        "l\n"
      ],
      "metadata": {
        "colab": {
          "base_uri": "https://localhost:8080/"
        },
        "id": "YNqYHxvMpXFq",
        "outputId": "6feb100e-57b4-4f55-db82-f4102708fea5"
      },
      "execution_count": 19,
      "outputs": [
        {
          "output_type": "execute_result",
          "data": {
            "text/plain": [
              "array([[4, 5, 7, 8]])"
            ]
          },
          "metadata": {},
          "execution_count": 19
        }
      ]
    },
    {
      "cell_type": "code",
      "source": [
        "# RANDOM FUNCTION\n",
        "a=np.random.random(3)\n",
        "a\n",
        "\n"
      ],
      "metadata": {
        "colab": {
          "base_uri": "https://localhost:8080/"
        },
        "id": "oqxnJjWjqdSK",
        "outputId": "70c0d080-23a5-4e98-dd2b-fa72a6678056"
      },
      "execution_count": 22,
      "outputs": [
        {
          "output_type": "execute_result",
          "data": {
            "text/plain": [
              "array([0.12885463, 0.42343919, 0.5807534 ])"
            ]
          },
          "metadata": {},
          "execution_count": 22
        }
      ]
    },
    {
      "cell_type": "code",
      "source": [
        "b=np.random.random((3,4))\n",
        "b"
      ],
      "metadata": {
        "colab": {
          "base_uri": "https://localhost:8080/"
        },
        "id": "gGJPdMoHxFbR",
        "outputId": "522baa9e-8cea-4871-aa52-7964283a5940"
      },
      "execution_count": 24,
      "outputs": [
        {
          "output_type": "execute_result",
          "data": {
            "text/plain": [
              "array([[0.67540066, 0.12285521, 0.22623996, 0.19968425],\n",
              "       [0.09612948, 0.33810419, 0.88310328, 0.37707781],\n",
              "       [0.1609879 , 0.08701892, 0.81836643, 0.90855908]])"
            ]
          },
          "metadata": {},
          "execution_count": 24
        }
      ]
    },
    {
      "cell_type": "code",
      "source": [
        "c=np.random.random((2,2,3))\n",
        "c\n"
      ],
      "metadata": {
        "colab": {
          "base_uri": "https://localhost:8080/"
        },
        "id": "OSCYoCZhxkva",
        "outputId": "fe7f425e-8609-4a99-8974-57113108ba21"
      },
      "execution_count": 25,
      "outputs": [
        {
          "output_type": "execute_result",
          "data": {
            "text/plain": [
              "array([[[0.74190736, 0.08035022, 0.19257715],\n",
              "        [0.35651472, 0.3285753 , 0.04705584]],\n",
              "\n",
              "       [[0.16408828, 0.97650368, 0.22745191],\n",
              "        [0.98827334, 0.92604101, 0.52338843]]])"
            ]
          },
          "metadata": {},
          "execution_count": 25
        }
      ]
    },
    {
      "cell_type": "code",
      "source": [
        "r=np.random.random(8).reshape(2,4)\n",
        "r\n"
      ],
      "metadata": {
        "colab": {
          "base_uri": "https://localhost:8080/"
        },
        "id": "FCvAuiWJxr0m",
        "outputId": "32c55f8c-5c1c-4291-fe9a-cf2bf9370ea2"
      },
      "execution_count": 26,
      "outputs": [
        {
          "output_type": "execute_result",
          "data": {
            "text/plain": [
              "array([[0.24489749, 0.16578122, 0.13103278, 0.25028852],\n",
              "       [0.58967078, 0.26637615, 0.68568865, 0.82426842]])"
            ]
          },
          "metadata": {},
          "execution_count": 26
        }
      ]
    },
    {
      "cell_type": "code",
      "source": [
        "# RANDINT Functions\n",
        "h=np.random.randint(1,100,7)  # format is (start, end, size)\n",
        "h\n"
      ],
      "metadata": {
        "colab": {
          "base_uri": "https://localhost:8080/"
        },
        "id": "RHKbwPYByUf4",
        "outputId": "77424b26-2193-4f70-b696-98307f112e75"
      },
      "execution_count": 28,
      "outputs": [
        {
          "output_type": "execute_result",
          "data": {
            "text/plain": [
              "array([60, 61, 83, 48, 11, 12, 14])"
            ]
          },
          "metadata": {},
          "execution_count": 28
        }
      ]
    },
    {
      "cell_type": "code",
      "source": [
        "v=np.random.randint(1,99)  # this will just give one random number every time b/w 1 and 99\n",
        "v\n"
      ],
      "metadata": {
        "colab": {
          "base_uri": "https://localhost:8080/"
        },
        "id": "k3QmyHV7zFN2",
        "outputId": "9f040621-f33b-4514-b18e-a14d57f96c8e"
      },
      "execution_count": 30,
      "outputs": [
        {
          "output_type": "execute_result",
          "data": {
            "text/plain": [
              "25"
            ]
          },
          "metadata": {},
          "execution_count": 30
        }
      ]
    },
    {
      "cell_type": "code",
      "source": [
        "# using the seed function to freeze the randomness\n",
        "np.random.seed(1) # seed makes sure that now everytime we run the random function it does not give a new random output\n",
        "j=np.random.randint(0,100,10)\n",
        "j\n"
      ],
      "metadata": {
        "colab": {
          "base_uri": "https://localhost:8080/"
        },
        "id": "6VXmPROj0km8",
        "outputId": "b42b3f31-3b2d-42c1-b508-4d6f252c6031"
      },
      "execution_count": 34,
      "outputs": [
        {
          "output_type": "execute_result",
          "data": {
            "text/plain": [
              "array([37, 12, 72,  9, 75,  5, 79, 64, 16,  1])"
            ]
          },
          "metadata": {},
          "execution_count": 34
        }
      ]
    }
  ]
}