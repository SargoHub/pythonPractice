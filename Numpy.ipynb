{
  "nbformat": 4,
  "nbformat_minor": 0,
  "metadata": {
    "colab": {
      "provenance": [],
      "authorship_tag": "ABX9TyNtp0ytB2N7MQVUyX6nexgl",
      "include_colab_link": true
    },
    "kernelspec": {
      "name": "python3",
      "display_name": "Python 3"
    },
    "language_info": {
      "name": "python"
    }
  },
  "cells": [
    {
      "cell_type": "markdown",
      "metadata": {
        "id": "view-in-github",
        "colab_type": "text"
      },
      "source": [
        "<a href=\"https://colab.research.google.com/github/SargoHub/pythonPractice/blob/main/Numpy.ipynb\" target=\"_parent\"><img src=\"https://colab.research.google.com/assets/colab-badge.svg\" alt=\"Open In Colab\"/></a>"
      ]
    },
    {
      "cell_type": "markdown",
      "source": [
        "NUMPY LIBRARY\n"
      ],
      "metadata": {
        "id": "Lkv1cNZYVFzL"
      }
    },
    {
      "cell_type": "code",
      "source": [
        "# importing the library\n",
        "import numpy as np   # np is created as a alias so that calling the fucntion becomes easier\n"
      ],
      "metadata": {
        "id": "svs7F9uwVJbS"
      },
      "execution_count": 6,
      "outputs": []
    },
    {
      "cell_type": "code",
      "source": [
        "l=[1,34,56,2]\n",
        "#creating the numpy one directional array from the list\n",
        "a=np.array(l)\n",
        "a\n"
      ],
      "metadata": {
        "colab": {
          "base_uri": "https://localhost:8080/"
        },
        "id": "74io2sy4Zp2l",
        "outputId": "fecba07f-3a41-4ece-df01-e3603077e798"
      },
      "execution_count": 8,
      "outputs": [
        {
          "output_type": "execute_result",
          "data": {
            "text/plain": [
              "array([ 1, 34, 56,  2])"
            ]
          },
          "metadata": {},
          "execution_count": 8
        }
      ]
    },
    {
      "cell_type": "code",
      "source": [
        "# multi dimensional array\n",
        "# first creating a one dimensional array\n",
        "x=np.array([1,67,28,47])\n",
        "x"
      ],
      "metadata": {
        "colab": {
          "base_uri": "https://localhost:8080/"
        },
        "id": "6htorwMTawIS",
        "outputId": "d31dde9b-ba42-4a7a-bf9c-91cbcc83709f"
      },
      "execution_count": 12,
      "outputs": [
        {
          "output_type": "execute_result",
          "data": {
            "text/plain": [
              "array([ 1, 67, 28, 47])"
            ]
          },
          "metadata": {},
          "execution_count": 12
        }
      ]
    },
    {
      "cell_type": "code",
      "source": [
        "print(x.ndim)  # this gives the dimension of the array\n",
        "print(x.shape) # gives the number of elements present in the array\n",
        "print(x.dtype)  # will tell the data type in the array"
      ],
      "metadata": {
        "colab": {
          "base_uri": "https://localhost:8080/"
        },
        "id": "RycjkjpBbqd5",
        "outputId": "d7835ff3-bd61-4e4d-c985-9e651898d966"
      },
      "execution_count": 16,
      "outputs": [
        {
          "output_type": "stream",
          "name": "stdout",
          "text": [
            "1\n",
            "(4,)\n",
            "int64\n"
          ]
        }
      ]
    },
    {
      "cell_type": "code",
      "source": [
        "# 2 dimensional array\n",
        "s=np.array([[1,2,3],[4,5,6]])\n",
        "s"
      ],
      "metadata": {
        "colab": {
          "base_uri": "https://localhost:8080/"
        },
        "id": "wEHW048jcl0K",
        "outputId": "cb2a881f-6f3b-49e6-c56a-d6302091e82b"
      },
      "execution_count": 22,
      "outputs": [
        {
          "output_type": "execute_result",
          "data": {
            "text/plain": [
              "array([[1, 2, 3],\n",
              "       [4, 5, 6]])"
            ]
          },
          "metadata": {},
          "execution_count": 22
        }
      ]
    },
    {
      "cell_type": "code",
      "source": [
        "print(s.ndim)\n",
        "print(s.shape)   # gives the number of (rows,cloumns)"
      ],
      "metadata": {
        "colab": {
          "base_uri": "https://localhost:8080/"
        },
        "id": "-xYTDuVwgqHJ",
        "outputId": "97e1b7a9-5d83-4c20-c8d7-794c5d39f045"
      },
      "execution_count": 24,
      "outputs": [
        {
          "output_type": "stream",
          "name": "stdout",
          "text": [
            "2\n",
            "(2, 3)\n"
          ]
        }
      ]
    },
    {
      "cell_type": "code",
      "source": [
        "s.reshape(3,2)"
      ],
      "metadata": {
        "colab": {
          "base_uri": "https://localhost:8080/"
        },
        "id": "31ABRtl4ibJM",
        "outputId": "0db83581-e22e-44f8-c847-bb87aade9d5a"
      },
      "execution_count": 25,
      "outputs": [
        {
          "output_type": "execute_result",
          "data": {
            "text/plain": [
              "array([[1, 2],\n",
              "       [3, 4],\n",
              "       [5, 6]])"
            ]
          },
          "metadata": {},
          "execution_count": 25
        }
      ]
    },
    {
      "cell_type": "code",
      "source": [
        "print(p.ndim)\n",
        "print(p.shape)\n",
        "print(p.size)"
      ],
      "metadata": {
        "colab": {
          "base_uri": "https://localhost:8080/"
        },
        "id": "qQlqlNuklFA0",
        "outputId": "edfd1532-3ed7-41aa-ee76-54aaedb048bd"
      },
      "execution_count": 28,
      "outputs": [
        {
          "output_type": "stream",
          "name": "stdout",
          "text": [
            "3\n",
            "(2, 2, 3)\n",
            "12\n"
          ]
        }
      ]
    },
    {
      "cell_type": "code",
      "source": [
        "g=np.array([1,2,3,4,5,6,7,8,9,10,11,12])\n",
        "print(g.size)\n",
        "print(g.ndim)\n",
        "g.reshape(2,6)\n",
        "g.reshape(4,3)\n"
      ],
      "metadata": {
        "colab": {
          "base_uri": "https://localhost:8080/"
        },
        "id": "xSI6BLXkm1_t",
        "outputId": "01854d84-4eee-4b97-c9b7-241ad42c5360"
      },
      "execution_count": 32,
      "outputs": [
        {
          "output_type": "stream",
          "name": "stdout",
          "text": [
            "12\n",
            "1\n"
          ]
        },
        {
          "output_type": "execute_result",
          "data": {
            "text/plain": [
              "array([[ 1,  2,  3],\n",
              "       [ 4,  5,  6],\n",
              "       [ 7,  8,  9],\n",
              "       [10, 11, 12]])"
            ]
          },
          "metadata": {},
          "execution_count": 32
        }
      ]
    },
    {
      "cell_type": "code",
      "source": [
        "# 3 dimensional array\n",
        "p=np.array([[[1,2,3],[4,5,6]],[[7,8,9],[10,11,12]]])\n",
        "p  # this array has one 3 dimensional, two 2-dimensional inside it, and two 1-dimensional inside the 2-dimensional"
      ],
      "metadata": {
        "colab": {
          "base_uri": "https://localhost:8080/"
        },
        "id": "JgvDseEDoG60",
        "outputId": "f9476583-1c32-474f-e49b-0ed2574e92bc"
      },
      "execution_count": 35,
      "outputs": [
        {
          "output_type": "execute_result",
          "data": {
            "text/plain": [
              "array([[[ 1,  2,  3],\n",
              "        [ 4,  5,  6]],\n",
              "\n",
              "       [[ 7,  8,  9],\n",
              "        [10, 11, 12]]])"
            ]
          },
          "metadata": {},
          "execution_count": 35
        }
      ]
    },
    {
      "cell_type": "code",
      "source": [
        "t=np.array([[[1,2,3],[4,5,6]]])\n",
        "print(t[0])  # gives the 2-dimensional array present in the 3-dimensional array\n",
        "print(t[0][1])  # gives the second 1-dimensional array of the 2-dimensional\n",
        "print(t[0][1][1]) # gives the second index value of the 1-dimensional array"
      ],
      "metadata": {
        "colab": {
          "base_uri": "https://localhost:8080/"
        },
        "id": "eYETo3x6tmt-",
        "outputId": "c48407cd-f95a-456c-e72f-df0e8e51f496"
      },
      "execution_count": 37,
      "outputs": [
        {
          "output_type": "stream",
          "name": "stdout",
          "text": [
            "[[1 2 3]\n",
            " [4 5 6]]\n",
            "[4 5 6]\n",
            "5\n"
          ]
        }
      ]
    },
    {
      "cell_type": "code",
      "source": [
        "# ndmin to give the number of dimension of array\n",
        "g=np.array([1,2,3,5],ndmin=4)  # to create a 4 dimension array using ndmin\n",
        "g\n"
      ],
      "metadata": {
        "colab": {
          "base_uri": "https://localhost:8080/"
        },
        "id": "s6UYVhcxvvO4",
        "outputId": "966408e3-a6a8-4fd1-e1a9-65cb6497c5c1"
      },
      "execution_count": 38,
      "outputs": [
        {
          "output_type": "execute_result",
          "data": {
            "text/plain": [
              "array([[[[1, 2, 3, 5]]]])"
            ]
          },
          "metadata": {},
          "execution_count": 38
        }
      ]
    },
    {
      "cell_type": "code",
      "source": [],
      "metadata": {
        "id": "a4cCY0Qjv6_g"
      },
      "execution_count": null,
      "outputs": []
    }
  ]
}