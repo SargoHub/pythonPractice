{
  "nbformat": 4,
  "nbformat_minor": 0,
  "metadata": {
    "colab": {
      "provenance": [],
      "authorship_tag": "ABX9TyNVL0PlrzJdtKhUBb5kiDFn",
      "include_colab_link": true
    },
    "kernelspec": {
      "name": "python3",
      "display_name": "Python 3"
    },
    "language_info": {
      "name": "python"
    }
  },
  "cells": [
    {
      "cell_type": "markdown",
      "metadata": {
        "id": "view-in-github",
        "colab_type": "text"
      },
      "source": [
        "<a href=\"https://colab.research.google.com/github/SargoHub/pythonPractice/blob/main/sequence_data_type.ipynb\" target=\"_parent\"><img src=\"https://colab.research.google.com/assets/colab-badge.svg\" alt=\"Open In Colab\"/></a>"
      ]
    },
    {
      "cell_type": "markdown",
      "source": [
        "FUNCTION POSSIBLE IN STRING DATA TYPE"
      ],
      "metadata": {
        "id": "jdpw9LY3bacU"
      }
    },
    {
      "cell_type": "code",
      "source": [
        "b='strong'\n",
        "a=b.replace('t','p')\n",
        "print(a)"
      ],
      "metadata": {
        "colab": {
          "base_uri": "https://localhost:8080/"
        },
        "id": "fP_nmPEXbhV2",
        "outputId": "8544ad40-6aab-4457-d944-dde0cfba32a1"
      },
      "execution_count": 3,
      "outputs": [
        {
          "output_type": "stream",
          "name": "stdout",
          "text": [
            "sprong\n"
          ]
        }
      ]
    },
    {
      "cell_type": "code",
      "source": [
        "a='apple'\n",
        "c=a.count('p')\n",
        "print(c)"
      ],
      "metadata": {
        "colab": {
          "base_uri": "https://localhost:8080/"
        },
        "id": "E2H-aCvlbmCa",
        "outputId": "6c5b7db5-998d-4b66-cd0f-cc2c869f1876"
      },
      "execution_count": 5,
      "outputs": [
        {
          "output_type": "stream",
          "name": "stdout",
          "text": [
            "2\n"
          ]
        }
      ]
    },
    {
      "cell_type": "code",
      "source": [
        "a='big'\n",
        "b='basket'\n",
        "c=\"egg\".join([a,b])\n",
        "print(c)"
      ],
      "metadata": {
        "colab": {
          "base_uri": "https://localhost:8080/"
        },
        "id": "09Xt7kVUbyVE",
        "outputId": "95c63217-ccd1-4a38-8d9c-11dfd2c1cc1f"
      },
      "execution_count": 8,
      "outputs": [
        {
          "output_type": "stream",
          "name": "stdout",
          "text": [
            "bigeggbasket\n"
          ]
        }
      ]
    },
    {
      "cell_type": "code",
      "source": [
        "a='execellent'\n",
        "b=a.find('n')\n",
        "print(b)"
      ],
      "metadata": {
        "colab": {
          "base_uri": "https://localhost:8080/"
        },
        "id": "pNXXoeBWcbUv",
        "outputId": "a9200f4d-5c57-4015-cf8b-fb974bc38eff"
      },
      "execution_count": 9,
      "outputs": [
        {
          "output_type": "stream",
          "name": "stdout",
          "text": [
            "8\n"
          ]
        }
      ]
    },
    {
      "cell_type": "code",
      "source": [
        "a='banana'\n",
        "b='tree'\n",
        "c=a+b\n",
        "print(c)\n"
      ],
      "metadata": {
        "colab": {
          "base_uri": "https://localhost:8080/"
        },
        "id": "BG3XY0C1ctHZ",
        "outputId": "5ab49a13-b8fb-4348-8890-907cda98f25e"
      },
      "execution_count": 10,
      "outputs": [
        {
          "output_type": "stream",
          "name": "stdout",
          "text": [
            "bananatree\n"
          ]
        }
      ]
    },
    {
      "cell_type": "code",
      "source": [
        "a='fantastic'\n",
        "b=a.split('n')\n",
        "print(b)\n"
      ],
      "metadata": {
        "colab": {
          "base_uri": "https://localhost:8080/"
        },
        "id": "1vYfhkvgdOY4",
        "outputId": "5fc553c9-856a-4268-f02c-6fc53468b2b3"
      },
      "execution_count": 11,
      "outputs": [
        {
          "output_type": "stream",
          "name": "stdout",
          "text": [
            "['fa', 'tastic']\n"
          ]
        }
      ]
    },
    {
      "cell_type": "markdown",
      "source": [
        "FUNCTION POSSIBLE ON A LIST SEQUENCE DATA TYPE ( MUTABABLE )"
      ],
      "metadata": {
        "id": "mivVB54bdhKp"
      }
    },
    {
      "cell_type": "code",
      "source": [
        "l1=[1,2,5,'a','f','p']\n",
        "print(l1)\n",
        "l1.append(6)\n",
        "print(l1)\n"
      ],
      "metadata": {
        "colab": {
          "base_uri": "https://localhost:8080/"
        },
        "id": "o-RECr27dmNo",
        "outputId": "72e50542-6a64-4819-f300-c1225d8292b4"
      },
      "execution_count": 12,
      "outputs": [
        {
          "output_type": "stream",
          "name": "stdout",
          "text": [
            "[1, 2, 5, 'a', 'f', 'p']\n",
            "[1, 2, 5, 'a', 'f', 'p', 6]\n"
          ]
        }
      ]
    },
    {
      "cell_type": "code",
      "source": [
        "l2=[1,8,6,'f','i']\n",
        "l2.pop()\n",
        "print(l2)\n"
      ],
      "metadata": {
        "colab": {
          "base_uri": "https://localhost:8080/"
        },
        "id": "zo7FYVv1d13m",
        "outputId": "b4eeff7c-c24b-47a8-ed58-56d4ac0f1a0f"
      },
      "execution_count": 13,
      "outputs": [
        {
          "output_type": "stream",
          "name": "stdout",
          "text": [
            "[1, 8, 6, 'f']\n"
          ]
        }
      ]
    },
    {
      "cell_type": "code",
      "source": [
        "l3=[4,8,6,2,7,7]\n",
        "print(l3[4])\n",
        "print(l3.index(8))\n"
      ],
      "metadata": {
        "colab": {
          "base_uri": "https://localhost:8080/"
        },
        "id": "wCnyyxixfzDu",
        "outputId": "3565c658-ba37-4548-9b8d-8dae10a63264"
      },
      "execution_count": 16,
      "outputs": [
        {
          "output_type": "stream",
          "name": "stdout",
          "text": [
            "7\n",
            "1\n"
          ]
        }
      ]
    },
    {
      "cell_type": "code",
      "source": [
        "l4=[7,8,2,4,'f','o']\n",
        "l4.reverse()\n",
        "print(l4)"
      ],
      "metadata": {
        "colab": {
          "base_uri": "https://localhost:8080/"
        },
        "id": "licHS6m0gIvC",
        "outputId": "2622c1cc-8d83-4fd7-ca28-36ef0e904caa"
      },
      "execution_count": 17,
      "outputs": [
        {
          "output_type": "stream",
          "name": "stdout",
          "text": [
            "['o', 'f', 4, 2, 8, 7]\n"
          ]
        }
      ]
    },
    {
      "cell_type": "code",
      "source": [
        "l5=[4,8,3,9]\n",
        "l5.sort()\n",
        "print(l5)\n"
      ],
      "metadata": {
        "colab": {
          "base_uri": "https://localhost:8080/"
        },
        "id": "C7ZDda_XgRtA",
        "outputId": "2dff6413-1781-4b0e-b9ca-a6f621be06d0"
      },
      "execution_count": 19,
      "outputs": [
        {
          "output_type": "stream",
          "name": "stdout",
          "text": [
            "[3, 4, 8, 9]\n"
          ]
        }
      ]
    },
    {
      "cell_type": "markdown",
      "source": [
        "FUNCTION POSSIBLE ON TUPLE ( IMMUTABLE )"
      ],
      "metadata": {
        "id": "BxeMO8jihz-4"
      }
    },
    {
      "cell_type": "code",
      "source": [
        "t1=('apple','mango','banana','apple')\n",
        "print(t1)\n",
        "x=t1.count('apple')\n",
        "print(x)"
      ],
      "metadata": {
        "colab": {
          "base_uri": "https://localhost:8080/"
        },
        "id": "AdRoE6eJh6v3",
        "outputId": "d24b3057-9809-4308-8376-7551927ea008"
      },
      "execution_count": 22,
      "outputs": [
        {
          "output_type": "stream",
          "name": "stdout",
          "text": [
            "('apple', 'mango', 'banana', 'apple')\n",
            "2\n"
          ]
        }
      ]
    },
    {
      "cell_type": "code",
      "source": [
        "t1=('apple','mango','banana','apple')\n",
        "print(t1[2])\n",
        "print(t1.index('mango'))\n"
      ],
      "metadata": {
        "colab": {
          "base_uri": "https://localhost:8080/"
        },
        "id": "Rl1g3CCEiIpa",
        "outputId": "6ddbc54b-7d3f-4eab-ee00-9534fd1c9067"
      },
      "execution_count": 21,
      "outputs": [
        {
          "output_type": "stream",
          "name": "stdout",
          "text": [
            "banana\n",
            "1\n"
          ]
        }
      ]
    },
    {
      "cell_type": "markdown",
      "source": [
        "FUNCTION POSSIBLE ON SET ( MUTABLE, UNORDERED, UNIQUE VALUES )"
      ],
      "metadata": {
        "id": "w7p2mCTQibTP"
      }
    },
    {
      "cell_type": "code",
      "source": [
        "s1={1,2,3}\n",
        "s2={3,4,5}\n",
        "x=s1.union(s2)\n",
        "print(x)"
      ],
      "metadata": {
        "colab": {
          "base_uri": "https://localhost:8080/"
        },
        "id": "2g4uq5mnileW",
        "outputId": "bab25399-c0ab-4b60-ac17-e3b9ec4e15ef"
      },
      "execution_count": 23,
      "outputs": [
        {
          "output_type": "stream",
          "name": "stdout",
          "text": [
            "{1, 2, 3, 4, 5}\n"
          ]
        }
      ]
    },
    {
      "cell_type": "code",
      "source": [
        "s1={3,7,9}\n",
        "s1.add(11)\n",
        "print(s1)"
      ],
      "metadata": {
        "colab": {
          "base_uri": "https://localhost:8080/"
        },
        "id": "ziRoItNhi1ZV",
        "outputId": "225138d0-cfe7-4a9f-96c9-852207863596"
      },
      "execution_count": 24,
      "outputs": [
        {
          "output_type": "stream",
          "name": "stdout",
          "text": [
            "{11, 9, 3, 7}\n"
          ]
        }
      ]
    },
    {
      "cell_type": "code",
      "source": [
        "s3={8,6,2,1,7}\n",
        "s3.remove(1)\n",
        "print(s3)"
      ],
      "metadata": {
        "colab": {
          "base_uri": "https://localhost:8080/"
        },
        "id": "VulYt7aOjX8-",
        "outputId": "b7eb4467-ff7b-4067-fadb-d061eb904f4a"
      },
      "execution_count": 25,
      "outputs": [
        {
          "output_type": "stream",
          "name": "stdout",
          "text": [
            "{2, 6, 7, 8}\n"
          ]
        }
      ]
    },
    {
      "cell_type": "markdown",
      "source": [
        "FUNCTION POSSIBLE ON DICT"
      ],
      "metadata": {
        "id": "UF_2I-s3kVto"
      }
    },
    {
      "cell_type": "code",
      "source": [
        "dict1={1:'adam', 2:'bob', 3:'chris'}\n",
        "print(dict1)\n",
        "a=dict1.get(2)\n",
        "print(a)\n"
      ],
      "metadata": {
        "colab": {
          "base_uri": "https://localhost:8080/"
        },
        "id": "q7h7sG1OkcrB",
        "outputId": "f2fbcb55-4136-4321-b063-5bd730cb69bc"
      },
      "execution_count": 26,
      "outputs": [
        {
          "output_type": "stream",
          "name": "stdout",
          "text": [
            "{1: 'adam', 2: 'bob', 3: 'chris'}\n",
            "bob\n"
          ]
        }
      ]
    },
    {
      "cell_type": "code",
      "source": [
        "dict1={1:'adam', 2:'bob', 3:'chris'}\n",
        "print(dict1.keys())\n",
        "print(dict1.values())\n",
        "print(dict1.items())\n"
      ],
      "metadata": {
        "colab": {
          "base_uri": "https://localhost:8080/"
        },
        "id": "SOArsfcAkwcP",
        "outputId": "16d4a605-2a41-4794-b56c-413bd06b1a06"
      },
      "execution_count": 29,
      "outputs": [
        {
          "output_type": "stream",
          "name": "stdout",
          "text": [
            "dict_keys([1, 2, 3])\n",
            "dict_values(['adam', 'bob', 'chris'])\n",
            "dict_items([(1, 'adam'), (2, 'bob'), (3, 'chris')])\n"
          ]
        }
      ]
    },
    {
      "cell_type": "markdown",
      "source": [
        "STRING SLICING EXAMPLES"
      ],
      "metadata": {
        "id": "vsgz5GUZlHv1"
      }
    },
    {
      "cell_type": "code",
      "source": [
        "a='extravagant'\n",
        "b=a[1:6]\n",
        "print(b)"
      ],
      "metadata": {
        "colab": {
          "base_uri": "https://localhost:8080/"
        },
        "id": "KLegwDmKlK5a",
        "outputId": "ea2b985e-92f4-4674-8e36-af82ecf95dd1"
      },
      "execution_count": 31,
      "outputs": [
        {
          "output_type": "stream",
          "name": "stdout",
          "text": [
            "xtrav\n"
          ]
        }
      ]
    },
    {
      "cell_type": "code",
      "source": [
        "c='optimistic'\n",
        "d=c[0:9:2]\n",
        "print(d)\n"
      ],
      "metadata": {
        "colab": {
          "base_uri": "https://localhost:8080/"
        },
        "id": "3xqKmYfEoTKn",
        "outputId": "74907124-ea61-4c7b-b5b2-cc84989bb2a8"
      },
      "execution_count": 32,
      "outputs": [
        {
          "output_type": "stream",
          "name": "stdout",
          "text": [
            "otmsi\n"
          ]
        }
      ]
    }
  ]
}