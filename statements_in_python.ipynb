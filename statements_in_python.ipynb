{
  "nbformat": 4,
  "nbformat_minor": 0,
  "metadata": {
    "colab": {
      "provenance": [],
      "authorship_tag": "ABX9TyPORUz+qSs88lkkoM+b5td7",
      "include_colab_link": true
    },
    "kernelspec": {
      "name": "python3",
      "display_name": "Python 3"
    },
    "language_info": {
      "name": "python"
    }
  },
  "cells": [
    {
      "cell_type": "markdown",
      "metadata": {
        "id": "view-in-github",
        "colab_type": "text"
      },
      "source": [
        "<a href=\"https://colab.research.google.com/github/SargoHub/pythonPractice/blob/main/statements_in_python.ipynb\" target=\"_parent\"><img src=\"https://colab.research.google.com/assets/colab-badge.svg\" alt=\"Open In Colab\"/></a>"
      ]
    },
    {
      "cell_type": "markdown",
      "source": [
        "CONDITIONAL STATEMENTS EXAMPLE\n",
        "1. IF.....ELSE\n",
        "2. IF.....ELIF.....ELSE\n",
        "3. NESTED IF"
      ],
      "metadata": {
        "id": "kI8jPtIb0UAF"
      }
    },
    {
      "cell_type": "code",
      "source": [
        "a=10\n",
        "b=6\n",
        "if(a>b):\n",
        "  print(a,'is big')\n",
        "else:\n",
        "  print(b, 'is big')\n",
        "\n",
        "\n"
      ],
      "metadata": {
        "colab": {
          "base_uri": "https://localhost:8080/"
        },
        "id": "ifcrzMHh0uVS",
        "outputId": "3dcd8a0d-7502-4de6-b79f-63f48fa39883"
      },
      "execution_count": null,
      "outputs": [
        {
          "output_type": "stream",
          "name": "stdout",
          "text": [
            "10 is big\n"
          ]
        }
      ]
    },
    {
      "cell_type": "code",
      "source": [
        "a=5\n",
        "if(a<5):\n",
        "  print('a is less than 5')\n",
        "elif(a==6):\n",
        "  print('a is 6')\n",
        "elif(a>5):\n",
        "  print('a is greater than 5')\n",
        "else:\n",
        "  print('a is', a)\n"
      ],
      "metadata": {
        "colab": {
          "base_uri": "https://localhost:8080/"
        },
        "id": "FnQwTsg71GYU",
        "outputId": "b0fdf9a0-b156-4a9d-b93f-1546414fefac"
      },
      "execution_count": null,
      "outputs": [
        {
          "output_type": "stream",
          "name": "stdout",
          "text": [
            "a is 5\n"
          ]
        }
      ]
    },
    {
      "cell_type": "code",
      "source": [
        "#nested if example\n",
        "x=7\n",
        "if(x>0):\n",
        "  if(x==5):\n",
        "    print('x is 5')\n",
        "  else:\n",
        "    print('x is not 5 it is', x)\n",
        "else:\n",
        "  print('main loop')\n"
      ],
      "metadata": {
        "colab": {
          "base_uri": "https://localhost:8080/"
        },
        "id": "JuKD_mRi7eAg",
        "outputId": "e92d35e6-5bac-4ed6-fad4-6f7818dbec92"
      },
      "execution_count": null,
      "outputs": [
        {
          "output_type": "stream",
          "name": "stdout",
          "text": [
            "x is not 5 it is 7\n"
          ]
        }
      ]
    },
    {
      "cell_type": "code",
      "source": [
        "#shorthand way of writing if...else\n",
        "a=2\n",
        "b=6\n",
        "print('a is big') if a>b else print('b is big')"
      ],
      "metadata": {
        "colab": {
          "base_uri": "https://localhost:8080/"
        },
        "id": "FpKC_AEH-mL4",
        "outputId": "ca7dddd7-02c8-4f5e-a19f-b70571c96cb3"
      },
      "execution_count": null,
      "outputs": [
        {
          "output_type": "stream",
          "name": "stdout",
          "text": [
            "b is big\n"
          ]
        }
      ]
    },
    {
      "cell_type": "code",
      "source": [
        "#shorthand way of writing if...else\n",
        "x='mercedes'\n",
        "y='car'\n",
        "z='dream'.join([x,y])\n",
        "print(z)\n",
        "print('x is bmx') if z=='mercedescardream' else print('x is', x)"
      ],
      "metadata": {
        "colab": {
          "base_uri": "https://localhost:8080/"
        },
        "id": "5usumy-s_QTv",
        "outputId": "a47acdbd-8bd4-416a-c526-d0ead0bd2957"
      },
      "execution_count": null,
      "outputs": [
        {
          "output_type": "stream",
          "name": "stdout",
          "text": [
            "mercedesdreamcar\n",
            "x is mercedes\n"
          ]
        }
      ]
    },
    {
      "cell_type": "markdown",
      "source": [
        "LOOPING STATEMENTS\n",
        "1. FOR LOOP\n",
        "2. WHILE LOOP"
      ],
      "metadata": {
        "id": "9Oe9y8XJAnoJ"
      }
    },
    {
      "cell_type": "code",
      "source": [
        "a=[1,2,3,4,5]\n",
        "for i in a :\n",
        "  print(i)"
      ],
      "metadata": {
        "colab": {
          "base_uri": "https://localhost:8080/"
        },
        "id": "jcRhkvm7Ava3",
        "outputId": "c3b2f761-7a4b-4ce7-f1fa-1efba7d9a60d"
      },
      "execution_count": null,
      "outputs": [
        {
          "output_type": "stream",
          "name": "stdout",
          "text": [
            "1\n",
            "2\n",
            "3\n",
            "4\n",
            "5\n"
          ]
        }
      ]
    },
    {
      "cell_type": "code",
      "source": [
        "b=[5,6,7,8,9,10]\n",
        "c=len(b)-1\n",
        "while c>0:\n",
        "  print(b[c])\n",
        "  c-=1"
      ],
      "metadata": {
        "colab": {
          "base_uri": "https://localhost:8080/"
        },
        "id": "2YziyA-YDnVz",
        "outputId": "4cb67e7a-45f0-4748-f8ff-7745889a4a6c"
      },
      "execution_count": null,
      "outputs": [
        {
          "output_type": "stream",
          "name": "stdout",
          "text": [
            "10\n",
            "9\n",
            "8\n",
            "7\n",
            "6\n"
          ]
        }
      ]
    },
    {
      "cell_type": "code",
      "source": [
        "star=5\n",
        "for i in range(star):\n",
        "  #print(i)\n",
        "  for j in range(i+1):\n",
        "    print('*', end=\" \")\n",
        "  print('\\n')\n",
        "\n"
      ],
      "metadata": {
        "colab": {
          "base_uri": "https://localhost:8080/"
        },
        "id": "M2zVULVBKD8V",
        "outputId": "5696551e-c0a1-4f29-8b71-c08135e84874"
      },
      "execution_count": 6,
      "outputs": [
        {
          "output_type": "stream",
          "name": "stdout",
          "text": [
            "* \n",
            "\n",
            "* * \n",
            "\n",
            "* * * \n",
            "\n",
            "* * * * \n",
            "\n",
            "* * * * * \n",
            "\n"
          ]
        }
      ]
    },
    {
      "cell_type": "markdown",
      "source": [
        "FUNCTIONS -\n",
        "1. INBUILT FUNCTIONS (LIKE math)\n",
        "2. USER DEFINED FUNCTIONS"
      ],
      "metadata": {
        "id": "flHcWMR1QcyY"
      }
    },
    {
      "cell_type": "code",
      "source": [
        "import math\n",
        "a=10\n",
        "b=math.pow(a,5)\n",
        "print(b)\n",
        "type(b)\n"
      ],
      "metadata": {
        "colab": {
          "base_uri": "https://localhost:8080/"
        },
        "id": "AO6kUXxVRUFd",
        "outputId": "dc2b8fb2-d9dc-4aa2-d3c7-3f6d8b3fff2d"
      },
      "execution_count": 8,
      "outputs": [
        {
          "output_type": "stream",
          "name": "stdout",
          "text": [
            "100000.0\n"
          ]
        },
        {
          "output_type": "execute_result",
          "data": {
            "text/plain": [
              "float"
            ]
          },
          "metadata": {},
          "execution_count": 8
        }
      ]
    },
    {
      "cell_type": "code",
      "source": [
        "import math\n",
        "a=4\n",
        "print(math.sqrt(a))\n",
        "\n"
      ],
      "metadata": {
        "colab": {
          "base_uri": "https://localhost:8080/"
        },
        "id": "PY6yW4LaR-lf",
        "outputId": "f03ea5b6-aff4-4758-f509-115520f882d0"
      },
      "execution_count": 9,
      "outputs": [
        {
          "output_type": "stream",
          "name": "stdout",
          "text": [
            "2.0\n"
          ]
        }
      ]
    },
    {
      "cell_type": "code",
      "source": [
        "#user define function\n",
        "def fn_power():\n",
        "  print('you are in the function')\n",
        "  x=int(input('Enter the number to find power of: '))\n",
        "  return x**2\n",
        "fn_power()"
      ],
      "metadata": {
        "colab": {
          "base_uri": "https://localhost:8080/"
        },
        "id": "9YUfekRxWU3-",
        "outputId": "503d4b78-25ea-4dbd-baa6-104e880a4e35"
      },
      "execution_count": 10,
      "outputs": [
        {
          "name": "stdout",
          "output_type": "stream",
          "text": [
            "you are in the function\n",
            "Enter the number to find power of: 6\n"
          ]
        },
        {
          "output_type": "execute_result",
          "data": {
            "text/plain": [
              "36"
            ]
          },
          "metadata": {},
          "execution_count": 10
        }
      ]
    },
    {
      "cell_type": "code",
      "source": [
        "#LAMBDA FUNCTION\n",
        "f1=lambda x: x+10\n",
        "f1(5)"
      ],
      "metadata": {
        "colab": {
          "base_uri": "https://localhost:8080/"
        },
        "id": "I9pBViyDY9oh",
        "outputId": "74e3dd10-6c59-4250-8a03-0c5c15a901f8"
      },
      "execution_count": 14,
      "outputs": [
        {
          "output_type": "execute_result",
          "data": {
            "text/plain": [
              "15"
            ]
          },
          "metadata": {},
          "execution_count": 14
        }
      ]
    },
    {
      "cell_type": "code",
      "source": [
        "f2=lambda x,y: x**y\n",
        "f2(2,3)\n"
      ],
      "metadata": {
        "colab": {
          "base_uri": "https://localhost:8080/"
        },
        "id": "GW5AX0lLZPv0",
        "outputId": "358b44c3-5925-461a-bb85-c8c07d8def31"
      },
      "execution_count": 15,
      "outputs": [
        {
          "output_type": "execute_result",
          "data": {
            "text/plain": [
              "8"
            ]
          },
          "metadata": {},
          "execution_count": 15
        }
      ]
    }
  ]
}