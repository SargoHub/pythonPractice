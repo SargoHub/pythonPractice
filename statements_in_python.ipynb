{
  "nbformat": 4,
  "nbformat_minor": 0,
  "metadata": {
    "colab": {
      "provenance": [],
      "authorship_tag": "ABX9TyPgFEvkKljpJu2hA6A9YPZd",
      "include_colab_link": true
    },
    "kernelspec": {
      "name": "python3",
      "display_name": "Python 3"
    },
    "language_info": {
      "name": "python"
    }
  },
  "cells": [
    {
      "cell_type": "markdown",
      "metadata": {
        "id": "view-in-github",
        "colab_type": "text"
      },
      "source": [
        "<a href=\"https://colab.research.google.com/github/SargoHub/pythonPractice/blob/main/statements_in_python.ipynb\" target=\"_parent\"><img src=\"https://colab.research.google.com/assets/colab-badge.svg\" alt=\"Open In Colab\"/></a>"
      ]
    },
    {
      "cell_type": "markdown",
      "source": [
        "CONDITIONAL STATEMENTS EXAMPLE\n",
        "1. IF.....ELSE\n",
        "2. IF.....ELIF.....ELSE\n",
        "3. NESTED IF"
      ],
      "metadata": {
        "id": "kI8jPtIb0UAF"
      }
    },
    {
      "cell_type": "code",
      "source": [
        "a=10\n",
        "b=6\n",
        "if(a>b):\n",
        "  print(a,'is big')\n",
        "else:\n",
        "  print(b, 'is big')\n",
        "\n",
        "\n"
      ],
      "metadata": {
        "colab": {
          "base_uri": "https://localhost:8080/"
        },
        "id": "ifcrzMHh0uVS",
        "outputId": "3dcd8a0d-7502-4de6-b79f-63f48fa39883"
      },
      "execution_count": 1,
      "outputs": [
        {
          "output_type": "stream",
          "name": "stdout",
          "text": [
            "10 is big\n"
          ]
        }
      ]
    },
    {
      "cell_type": "code",
      "source": [
        "a=5\n",
        "if(a<5):\n",
        "  print('a is less than 5')\n",
        "elif(a==6):\n",
        "  print('a is 6')\n",
        "elif(a>5):\n",
        "  print('a is greater than 5')\n",
        "else:\n",
        "  print('a is', a)\n"
      ],
      "metadata": {
        "colab": {
          "base_uri": "https://localhost:8080/"
        },
        "id": "FnQwTsg71GYU",
        "outputId": "b0fdf9a0-b156-4a9d-b93f-1546414fefac"
      },
      "execution_count": 3,
      "outputs": [
        {
          "output_type": "stream",
          "name": "stdout",
          "text": [
            "a is 5\n"
          ]
        }
      ]
    },
    {
      "cell_type": "code",
      "source": [
        "#nested if example\n",
        "x=7\n",
        "if(x>0):\n",
        "  if(x==5):\n",
        "    print('x is 5')\n",
        "  else:\n",
        "    print('x is not 5 it is', x)\n",
        "else:\n",
        "  print('main loop')\n"
      ],
      "metadata": {
        "colab": {
          "base_uri": "https://localhost:8080/"
        },
        "id": "JuKD_mRi7eAg",
        "outputId": "e92d35e6-5bac-4ed6-fad4-6f7818dbec92"
      },
      "execution_count": 8,
      "outputs": [
        {
          "output_type": "stream",
          "name": "stdout",
          "text": [
            "x is not 5 it is 7\n"
          ]
        }
      ]
    },
    {
      "cell_type": "code",
      "source": [
        "#shorthand way of writing if...else\n",
        "a=2\n",
        "b=6\n",
        "print('a is big') if a>b else print('b is big')"
      ],
      "metadata": {
        "colab": {
          "base_uri": "https://localhost:8080/"
        },
        "id": "FpKC_AEH-mL4",
        "outputId": "ca7dddd7-02c8-4f5e-a19f-b70571c96cb3"
      },
      "execution_count": 10,
      "outputs": [
        {
          "output_type": "stream",
          "name": "stdout",
          "text": [
            "b is big\n"
          ]
        }
      ]
    },
    {
      "cell_type": "code",
      "source": [
        "#shorthand way of writing if...else\n",
        "x='mercedes'\n",
        "y='car'\n",
        "z='dream'.join([x,y])\n",
        "print(z)\n",
        "print('x is bmx') if z=='mercedescardream' else print('x is', x)"
      ],
      "metadata": {
        "colab": {
          "base_uri": "https://localhost:8080/"
        },
        "id": "5usumy-s_QTv",
        "outputId": "a47acdbd-8bd4-416a-c526-d0ead0bd2957"
      },
      "execution_count": 15,
      "outputs": [
        {
          "output_type": "stream",
          "name": "stdout",
          "text": [
            "mercedesdreamcar\n",
            "x is mercedes\n"
          ]
        }
      ]
    },
    {
      "cell_type": "markdown",
      "source": [
        "LOOPING STATEMENTS\n",
        "1. FOR LOOP\n",
        "2. WHILE LOOP"
      ],
      "metadata": {
        "id": "9Oe9y8XJAnoJ"
      }
    },
    {
      "cell_type": "code",
      "source": [
        "a=[1,2,3,4,5]\n",
        "for i in a :\n",
        "  print(i)"
      ],
      "metadata": {
        "colab": {
          "base_uri": "https://localhost:8080/"
        },
        "id": "jcRhkvm7Ava3",
        "outputId": "c3b2f761-7a4b-4ce7-f1fa-1efba7d9a60d"
      },
      "execution_count": 16,
      "outputs": [
        {
          "output_type": "stream",
          "name": "stdout",
          "text": [
            "1\n",
            "2\n",
            "3\n",
            "4\n",
            "5\n"
          ]
        }
      ]
    },
    {
      "cell_type": "code",
      "source": [
        "b=[5,6,7,8,9,10]\n",
        "c=len(b)-1\n",
        "while c>0:\n",
        "  print(b[c])\n",
        "  c-=1"
      ],
      "metadata": {
        "colab": {
          "base_uri": "https://localhost:8080/"
        },
        "id": "2YziyA-YDnVz",
        "outputId": "4cb67e7a-45f0-4748-f8ff-7745889a4a6c"
      },
      "execution_count": 18,
      "outputs": [
        {
          "output_type": "stream",
          "name": "stdout",
          "text": [
            "10\n",
            "9\n",
            "8\n",
            "7\n",
            "6\n"
          ]
        }
      ]
    },
    {
      "cell_type": "code",
      "source": [
        "star=5\n",
        "for i in range(star):\n",
        "  #print(i)\n",
        "  for j in range(i+1):\n",
        "    print('*', end=\" \")\n",
        "  print('\\n')\n",
        "\n"
      ],
      "metadata": {
        "colab": {
          "base_uri": "https://localhost:8080/"
        },
        "id": "M2zVULVBKD8V",
        "outputId": "7770bea8-6085-49cd-c459-390e47ff924b"
      },
      "execution_count": 26,
      "outputs": [
        {
          "output_type": "stream",
          "name": "stdout",
          "text": [
            "* \n",
            "\n",
            "* * \n",
            "\n",
            "* * * \n",
            "\n",
            "* * * * \n",
            "\n",
            "* * * * * \n",
            "\n"
          ]
        }
      ]
    }
  ]
}